{
 "cells": [
  {
   "cell_type": "code",
   "execution_count": 1,
   "metadata": {},
   "outputs": [],
   "source": [
    "include(\"Micrograd.jl\")\n",
    "using .Micrograd\n"
   ]
  },
  {
   "cell_type": "code",
   "execution_count": 2,
   "metadata": {},
   "outputs": [
    {
     "data": {
      "text/plain": [
       "41-element Vector{Value}:\n",
       " Value(0.5142219707969203)\n",
       " Value(0.8881188589667972)\n",
       " Value(0.33728011477863207)\n",
       " Value(0.2645212982262132)\n",
       " Value(0.4851548927866439)\n",
       " Value(0.6103146848167161)\n",
       " Value(0.786486753991324)\n",
       " Value(0.6945506588188861)\n",
       " Value(0.06548161328429725)\n",
       " Value(0.47048277493667046)\n",
       " ⋮\n",
       " Value(0.21266832567814764)\n",
       " Value(0.06620959642903312)\n",
       " Value(0.6231968684454889)\n",
       " Value(0.6738230992982269)\n",
       " Value(0.8921161227687994)\n",
       " Value(0.8744829302428601)\n",
       " Value(0.8191145920846209)\n",
       " Value(0.9911733616295252)\n",
       " Value(0.6267138823947147)"
      ]
     },
     "metadata": {},
     "output_type": "display_data"
    }
   ],
   "source": [
    "x = [2.0, 3.0, -1.0]\n",
    "#n = neuron(3)\n",
    "#n = layer(3, 3)\n",
    "n = mlp(3, [4, 4, 1])\n",
    "\n",
    "#o = forward(n, x);\n",
    "#o[1].data\n",
    "\n",
    "parameters(n)"
   ]
  },
  {
   "cell_type": "code",
   "execution_count": 7,
   "metadata": {},
   "outputs": [
    {
     "data": {
      "text/plain": [
       "4-element Vector{Value}:\n",
       " Value(0.9994252685362403)\n",
       " Value(0.9983934461418398)\n",
       " Value(0.9993868674540937)\n",
       " Value(0.999301880100739)"
      ]
     },
     "metadata": {},
     "output_type": "display_data"
    }
   ],
   "source": [
    "xs = [\n",
    "    [2.0, 3.0, -1.0],\n",
    "    [3.0, -1.0, 0.5],\n",
    "    [0.5, 1.0, 1.0],\n",
    "    [1.0, 1.0, -1.0]\n",
    "]\n",
    "\n",
    "ys = [1.0, -1.0, -1.0, 1.0]\n",
    "\n",
    "ypred = [forward(n, x)[1] for x in xs]"
   ]
  },
  {
   "cell_type": "code",
   "execution_count": 8,
   "metadata": {},
   "outputs": [
    {
     "data": {
      "text/plain": [
       "Value(7.991125029018201)"
      ]
     },
     "metadata": {},
     "output_type": "display_data"
    }
   ],
   "source": [
    "function loss(ypred, y)\n",
    "    return sum([(ypred[i] - y[i])^2.0 for i in 1:length(y)])\n",
    "end\n",
    "\n",
    "L = loss(ypred, ys)"
   ]
  },
  {
   "cell_type": "code",
   "execution_count": 64,
   "metadata": {},
   "outputs": [
    {
     "data": {
      "text/plain": [
       "train (generic function with 1 method)"
      ]
     },
     "metadata": {},
     "output_type": "display_data"
    }
   ],
   "source": [
    "function train(n::MultiLayerPerceptron, xs, ys, epochs)\n",
    "    ypred = [forward(n, x)[1] for x in xs]\n",
    "    L = loss(ypred, ys)\n",
    "    L.grad = 1.0\n",
    "    α = 0.1\n",
    "\n",
    "    for i in 1:epochs\n",
    "        for p in parameters(n)\n",
    "            p.grad = 0.0\n",
    "        end\n",
    "        L.grad = 1.0\n",
    "        backpropagate(L)\n",
    "\n",
    "        for p in parameters(n)\n",
    "            p.data -= α * p.grad\n",
    "        end\n",
    "\n",
    "        ypred = [forward(n, x)[1] for x in xs]\n",
    "        L = loss(ypred, ys)\n",
    "        \n",
    "        if i % 100 == 0\n",
    "            println(\"epoch $i: loss = $L\")\n",
    "        end\n",
    "    end\n",
    "end\n"
   ]
  },
  {
   "cell_type": "code",
   "execution_count": 67,
   "metadata": {},
   "outputs": [
    {
     "name": "stdout",
     "output_type": "stream",
     "text": [
      "epoch 100: loss = Value(0.005732429491256589)\n",
      "epoch 200: loss = Value(0.0022502952677907998)\n"
     ]
    },
    {
     "name": "stdout",
     "output_type": "stream",
     "text": [
      "epoch 300: loss = Value(0.0013833010820268783)\n",
      "epoch 400: loss = Value(0.0009942554630418192)\n",
      "epoch 500: loss = Value(0.0007743200680451561)\n",
      "epoch 600: loss = Value(0.0006332470112995627)\n"
     ]
    },
    {
     "name": "stdout",
     "output_type": "stream",
     "text": [
      "epoch 700: loss = Value(0.0005352073031212787)\n",
      "epoch 800: loss = Value(0.00046318421210768455)\n",
      "epoch 900: loss = Value(0.00040807175598850924)\n",
      "epoch 1000: loss = Value(0.00036456146798744237)\n"
     ]
    },
    {
     "name": "stdout",
     "output_type": "stream",
     "text": [
      "epoch 1100: loss = Value(0.0003293519701949002)\n",
      "epoch 1200: loss = Value(0.00030028344408233605)\n",
      "epoch 1300: loss = Value(0.0002758840770367225)\n"
     ]
    },
    {
     "name": "stdout",
     "output_type": "stream",
     "text": [
      "epoch 1400: loss = Value(0.00025511665497776343)\n",
      "epoch 1500: loss = Value(0.00023722937920766786)\n",
      "epoch 1600: loss = Value(0.00022166413482781964)\n",
      "epoch 1700: loss = Value(0.0002079979707726777)\n"
     ]
    },
    {
     "name": "stdout",
     "output_type": "stream",
     "text": [
      "epoch 1800: loss = Value(0.00019590457006307883)\n",
      "epoch 1900: loss = Value(0.00018512817769205053)\n",
      "epoch 2000: loss = Value(0.00017546553019678586)\n"
     ]
    }
   ],
   "source": [
    "n = mlp(3, [4, 4, 1])\n",
    "train(n, xs, ys, 2000)"
   ]
  },
  {
   "cell_type": "code",
   "execution_count": 68,
   "metadata": {},
   "outputs": [
    {
     "data": {
      "text/plain": [
       "4-element Vector{Value}:\n",
       " Value(0.9947145735521701)\n",
       " Value(-0.9969639214726059)\n",
       " Value(-0.9912042188590929)\n",
       " Value(0.9921931915126522)"
      ]
     },
     "metadata": {},
     "output_type": "display_data"
    }
   ],
   "source": [
    "ypred = [forward(n, x)[1] for x in xs]"
   ]
  }
 ],
 "metadata": {
  "kernelspec": {
   "display_name": "Julia 1.8.5",
   "language": "julia",
   "name": "julia-1.8"
  },
  "language_info": {
   "file_extension": ".jl",
   "mimetype": "application/julia",
   "name": "julia",
   "version": "1.8.5"
  },
  "orig_nbformat": 4
 },
 "nbformat": 4,
 "nbformat_minor": 2
}
