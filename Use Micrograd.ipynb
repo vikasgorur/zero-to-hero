{
 "cells": [
  {
   "cell_type": "code",
   "execution_count": 1,
   "metadata": {},
   "outputs": [],
   "source": [
    "include(\"Micrograd.jl\")\n",
    "using .Micrograd"
   ]
  },
  {
   "cell_type": "code",
   "execution_count": 2,
   "metadata": {},
   "outputs": [
    {
     "data": {
      "text/plain": [
       "Value(\"a\", 1.0, 0.0, Set{Value}(), \"\", Main.Micrograd.var\"#1#2\"())"
      ]
     },
     "metadata": {},
     "output_type": "display_data"
    }
   ],
   "source": [
    "a = val(\"a\", 1.0)"
   ]
  },
  {
   "cell_type": "code",
   "execution_count": 5,
   "metadata": {},
   "outputs": [
    {
     "data": {
      "text/plain": [
       "neuron (generic function with 1 method)"
      ]
     },
     "metadata": {},
     "output_type": "display_data"
    }
   ],
   "source": [
    "mutable struct Neuron\n",
    "    nin::Integer\n",
    "    w::Array{Value,1}\n",
    "    b::Float64\n",
    "end\n",
    "\n",
    "function neuron(nin::Integer)\n",
    "    w = [val(\"w$i\", rand()) for i in 1:nin]\n",
    "    b = rand()\n",
    "    return Neuron(nin, w, b)\n",
    "end"
   ]
  },
  {
   "cell_type": "code",
   "execution_count": 18,
   "metadata": {},
   "outputs": [
    {
     "data": {
      "text/plain": [
       "forward (generic function with 1 method)"
      ]
     },
     "metadata": {},
     "output_type": "display_data"
    }
   ],
   "source": [
    "function forward(n::Neuron, x::Array{Float64,1})\n",
    "    return tanh(sum(n.w .* x) + n.b)\n",
    "end"
   ]
  },
  {
   "cell_type": "code",
   "execution_count": 88,
   "metadata": {},
   "outputs": [
    {
     "data": {
      "text/plain": [
       "0.21008988190777844"
      ]
     },
     "metadata": {},
     "output_type": "display_data"
    }
   ],
   "source": [
    "x = [-2.0, -3.0]\n",
    "n = neuron(2)\n",
    "forward(n, x).data"
   ]
  },
  {
   "cell_type": "code",
   "execution_count": 89,
   "metadata": {},
   "outputs": [
    {
     "data": {
      "text/plain": [
       "forward (generic function with 2 methods)"
      ]
     },
     "metadata": {},
     "output_type": "display_data"
    }
   ],
   "source": [
    "struct Layer\n",
    "    neurons::Array{Neuron,1}\n",
    "end\n",
    "\n",
    "function layer(nin::Integer, nout::Integer)\n",
    "    neurons = [neuron(nin) for i in 1:nout]\n",
    "    return Layer(neurons)\n",
    "end\n",
    "\n",
    "function forward(l::Layer, x::Array{Float64,1})\n",
    "    return [forward(n, x) for n in l.neurons]\n",
    "end"
   ]
  },
  {
   "cell_type": "code",
   "execution_count": null,
   "metadata": {},
   "outputs": [],
   "source": [
    "struct MLP\n",
    "    layers::Array{Layer,1}\n",
    "end\n",
    "\n",
    "function mlp(nin::Integer, nouts::Array{Integer,1})\n",
    "    # nin is the number of inputs to the first layer\n",
    "    # nouts is the number of neurons in each subsequent layer\n",
    "\n",
    "    sizes = [nin; nouts]\n",
    "    layers = [layer(sizes[i], sizes[i+1]) for i in 1:length(sizes)-1]\n",
    "    return MLP(layers)\n",
    "end\n",
    "\n",
    "function forward(m::MLP, x::Array{Float64,1})\n",
    "    for l in m.layers\n",
    "        x = forward(l, x)\n",
    "    end\n",
    "    return x\n",
    "end"
   ]
  }
 ],
 "metadata": {
  "kernelspec": {
   "display_name": "Julia 1.8.5",
   "language": "julia",
   "name": "julia-1.8"
  },
  "language_info": {
   "file_extension": ".jl",
   "mimetype": "application/julia",
   "name": "julia",
   "version": "1.8.5"
  },
  "orig_nbformat": 4
 },
 "nbformat": 4,
 "nbformat_minor": 2
}
